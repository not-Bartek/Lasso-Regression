{
  "nbformat": 4,
  "nbformat_minor": 0,
  "metadata": {
    "colab": {
      "provenance": [],
      "authorship_tag": "ABX9TyO071uYgRXCLDWqiCInYNAM",
      "include_colab_link": true
    },
    "kernelspec": {
      "name": "python3",
      "display_name": "Python 3"
    },
    "language_info": {
      "name": "python"
    }
  },
  "cells": [
    {
      "cell_type": "markdown",
      "metadata": {
        "id": "view-in-github",
        "colab_type": "text"
      },
      "source": [
        "<a href=\"https://colab.research.google.com/github/not-Bartek/Lasso-Regression/blob/main/Lasso_Regression_in_Python.ipynb\" target=\"_parent\"><img src=\"https://colab.research.google.com/assets/colab-badge.svg\" alt=\"Open In Colab\"/></a>"
      ]
    },
    {
      "cell_type": "markdown",
      "source": [
        "Lasso Regression"
      ],
      "metadata": {
        "id": "a21OrYrSIwJf"
      }
    },
    {
      "cell_type": "code",
      "source": [
        "import numpy as np"
      ],
      "metadata": {
        "id": "s_NinhDpJYv-"
      },
      "execution_count": 1,
      "outputs": []
    },
    {
      "cell_type": "code",
      "execution_count": 3,
      "metadata": {
        "id": "ZsgtTWeYIucb"
      },
      "outputs": [],
      "source": [
        "class Lasso_Regression():\n",
        "  def __init__(self, learning_rate, no_of_iterations, lambda_parameter):\n",
        "    self.learning_rate = learning_rate\n",
        "    self.no_of_iterations = no_of_iterations\n",
        "    self.lambda_parameter = lambda_parameter\n",
        "  def fit(self, X, Y):\n",
        "    self.m, self.n = X.shape\n",
        "\n",
        "    self.X = X\n",
        "    self.Y = Y\n",
        "\n",
        "    self.w = np.zeros(self.n)\n",
        "    self.b = 0\n",
        "\n",
        "    for i in range(self.no_of_iterations):\n",
        "      self.update_weights(self)\n",
        "\n",
        "  def update_weights(self):\n",
        "\n",
        "    Y_prediction = self.predict(self.X)\n",
        "\n",
        "\n",
        "    dw = np.zeros(self.n)\n",
        "\n",
        "    for i in range(self.n):\n",
        "\n",
        "      if self.w[i] > 0:\n",
        "\n",
        "        dw[i] = (-(2*(self.X[:,i]).dot(self.Y - Y_prediction)) + self.lambda_parameter) / self.m\n",
        "\n",
        "      else:\n",
        "\n",
        "        dw[i] = (-(2*(self.X[:,i]).dot(self.Y - Y_prediction)) - self.lambda_parameter) / self.m\n",
        "    db = -2 * np.sum(self.Y- self.prediction) / self.m\n",
        "\n",
        "    w = w - self.learning_rate * dw\n",
        "    b = b - self.learning_rate * db\n",
        "\n",
        "  def predict(self, X):\n",
        "    return X.dot(self.w) + self.b\n",
        ""
      ]
    }
  ]
}